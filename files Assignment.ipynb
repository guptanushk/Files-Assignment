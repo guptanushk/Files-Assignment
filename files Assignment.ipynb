{
 "cells": [
  {
   "cell_type": "markdown",
   "id": "a97bd258-c693-4e05-b75a-6750abb334c9",
   "metadata": {},
   "source": [
    "Q1. Which function is used to open a file? What are the different modes of opening a file? Explain each mode\n",
    "of file opening."
   ]
  },
  {
   "cell_type": "markdown",
   "id": "a282e224-80d9-4a90-95a3-8782f6931058",
   "metadata": {},
   "source": [
    "Answer : open function is used to open the file in python \n",
    "\n",
    "Syntax : \n",
    "\n",
    "f = open('test.txt','w')\n",
    "\n",
    "\n",
    "Different Modes to Open a File in Python\n",
    "\n",
    "Mode\t           Description\n",
    "\n",
    "r = \tOpen a file for reading. (default)\n",
    "\n",
    "w = \tOpen a file for writing. Creates a new file if it does not exist or truncates the file if it exists.\n",
    "\n",
    "x = \tOpen a file for exclusive creation. If the file already exists, the operation fails.\n",
    "\n",
    "a = \tOpen a file for appending at the end of the file without truncating it. Creates a new file if it does not exist.\n",
    "\n",
    "t = \tOpen in text mode. (default)\n",
    "\n",
    "b = \tOpen in binary mode.\n",
    "\n",
    "+ = \tOpen a file for updating (reading and writing)\n"
   ]
  },
  {
   "cell_type": "markdown",
   "id": "f1919978-9db5-4018-a2af-9148c037b6fb",
   "metadata": {},
   "source": [
    "Q2. Why close() function is used? Why is it important to close a file?"
   ]
  },
  {
   "cell_type": "markdown",
   "id": "de8ee49c-f01b-4f0c-b721-01c269a50a9e",
   "metadata": {},
   "source": [
    "Answer : The close() method closes an open file. You should always close your files, in some cases, due to buffering, changes made to a file may not show until you close the file.\n",
    "\n",
    "It is important to close a openfile before executing because without closing a open file it doesn't work and shows error in the code."
   ]
  },
  {
   "cell_type": "markdown",
   "id": "a69e2346-b232-4968-9b1f-93a494f37305",
   "metadata": {},
   "source": [
    "Q3. Write a python program to create a text file. Write ‘I want to become a Data Scientist’ in that file. Then\n",
    "close the file. Open this file and read the content of the file."
   ]
  },
  {
   "cell_type": "markdown",
   "id": "e671f7ea-bbcf-4656-8e0d-3651babeb77a",
   "metadata": {},
   "source": [
    "Answer : "
   ]
  },
  {
   "cell_type": "code",
   "execution_count": 5,
   "id": "2585f94f-22c9-472f-9b20-0ea5b12c3101",
   "metadata": {},
   "outputs": [],
   "source": [
    "f = open('test2.txt','w')\n",
    "f.write(\"I want to become a Data Scientist\")\n",
    "f.close()\n"
   ]
  },
  {
   "cell_type": "code",
   "execution_count": 6,
   "id": "2be7efaa-a03d-4c62-84f8-84e9fbbdf5a8",
   "metadata": {},
   "outputs": [
    {
     "name": "stdout",
     "output_type": "stream",
     "text": [
      "I want to become a Data Scientist\n"
     ]
    }
   ],
   "source": [
    "f = open('test2.txt','r')\n",
    "print(f.read())\n",
    "f.close()\n"
   ]
  },
  {
   "cell_type": "markdown",
   "id": "b365be45-3640-4e92-b3a9-89ccecaa2d51",
   "metadata": {},
   "source": [
    "Q4. Explain the following with python code: read(), readline() and readlines()."
   ]
  },
  {
   "cell_type": "markdown",
   "id": "78fb6163-d7cb-4c18-b538-96b8eaf2647e",
   "metadata": {},
   "source": [
    "Answer : The read() will read the whole file at once and then print out the first characters that take up as many bytes as you specify in the parenthesis.\n",
    "\n",
    "Python readline() method will return a line from the file when called. readlines() method will return all the lines in a file in the format of a list where each element is a line in the file."
   ]
  },
  {
   "cell_type": "markdown",
   "id": "1db6d6a7-01e2-450f-a9c5-ee296ff65e18",
   "metadata": {},
   "source": [
    "Q5. Explain why with statement is used with open(). What is the advantage of using with statement and\n",
    "open() together?"
   ]
  },
  {
   "cell_type": "markdown",
   "id": "86984905-9ca4-41d6-9223-9fe9ace7e481",
   "metadata": {},
   "source": [
    "Answer : The with statement works with the open() function to open a file. Unlike open() This is because the with statement calls 2 built-in methods behind the scene – __enter()__ and __exit()__ ."
   ]
  },
  {
   "cell_type": "markdown",
   "id": "e57a715b-5a08-4ab2-aaf0-4b8eb3a7095e",
   "metadata": {},
   "source": [
    "Q6. Explain the write() and writelines() functions. Give a suitable example.\n"
   ]
  },
  {
   "cell_type": "markdown",
   "id": "fbeaa115-083d-4a39-8de4-5828e0dbeebe",
   "metadata": {},
   "source": [
    "Answer : The write() function will write the content in the file without adding any extra characters.\n",
    "\n",
    "file_name.write(content) \n",
    "\n",
    "writeline()\n",
    "This function writes the content of a list to a file.\n",
    "\n",
    "file_name.writelines(list_of_lines)"
   ]
  },
  {
   "cell_type": "code",
   "execution_count": null,
   "id": "88891996-cae8-44a8-8f43-8bcbae8f2d95",
   "metadata": {},
   "outputs": [],
   "source": []
  }
 ],
 "metadata": {
  "kernelspec": {
   "display_name": "Python 3 (ipykernel)",
   "language": "python",
   "name": "python3"
  },
  "language_info": {
   "codemirror_mode": {
    "name": "ipython",
    "version": 3
   },
   "file_extension": ".py",
   "mimetype": "text/x-python",
   "name": "python",
   "nbconvert_exporter": "python",
   "pygments_lexer": "ipython3",
   "version": "3.10.8"
  }
 },
 "nbformat": 4,
 "nbformat_minor": 5
}
